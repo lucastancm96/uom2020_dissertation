{
 "metadata": {
  "language_info": {
   "codemirror_mode": {
    "name": "ipython",
    "version": 3
   },
   "file_extension": ".py",
   "mimetype": "text/x-python",
   "name": "python",
   "nbconvert_exporter": "python",
   "pygments_lexer": "ipython3",
   "version": "3.7.6-final"
  },
  "orig_nbformat": 2,
  "kernelspec": {
   "name": "python_defaultSpec_1598971406052",
   "display_name": "Python 3.7.6 64-bit ('base': conda)"
  }
 },
 "nbformat": 4,
 "nbformat_minor": 2,
 "cells": [
  {
   "cell_type": "code",
   "execution_count": 1,
   "metadata": {
    "tags": []
   },
   "outputs": [],
   "source": [
    "import pandas as pd\n",
    "import seaborn as sns\n",
    "import matplotlib.pyplot as plt\n",
    "from matplotlib.gridspec import GridSpec"
   ]
  },
  {
   "cell_type": "markdown",
   "metadata": {},
   "source": [
    "## Main Function"
   ]
  },
  {
   "cell_type": "code",
   "execution_count": 2,
   "metadata": {},
   "outputs": [],
   "source": [
    "def open_excel(fname, sheet):\n",
    "    df = pd.read_excel('/Users/Ming/Documents/GitHub/wellcome_dissertation/WellcomePy/excel_data/' + fname + '.xlsx', sheet_name=sheet)\n",
    "    return df\n",
    "\n",
    "def save_csv(df, fname):\n",
    "    df.to_csv('/Users/Ming/Documents/GitHub/wellcome_dissertation/WellcomePy/csv_data/UNICEF/' + fname, index=False)\n",
    "\n",
    "def open_csv(fname):\n",
    "    df = pd.read_csv('/Users/Ming/Documents/GitHub/wellcome_dissertation/WellcomePy/csv_data/UNICEF/' + fname)\n",
    "    return df"
   ]
  },
  {
   "cell_type": "markdown",
   "metadata": {},
   "source": [
    "## HPV Vaccine Coverage"
   ]
  },
  {
   "cell_type": "code",
   "execution_count": null,
   "metadata": {},
   "outputs": [],
   "source": [
    "hpvdf = open_excel('HPV_estimates-2019revision', 'DATA_HPV_SERIES')\n",
    "hpvdf = hpvdf.drop(hpvdf.iloc[:, -3:].columns, axis=1)"
   ]
  },
  {
   "cell_type": "code",
   "execution_count": null,
   "metadata": {},
   "outputs": [],
   "source": [
    "hpvdf = hpvdf[(df['year'] == 2019) & (df['sex'] != 'Male')]\n",
    "hpvdf"
   ]
  },
  {
   "cell_type": "code",
   "execution_count": null,
   "metadata": {
    "tags": []
   },
   "outputs": [],
   "source": [
    "df = df[df['value_str'] != '-']\n",
    "hpvdf"
   ]
  },
  {
   "cell_type": "code",
   "execution_count": null,
   "metadata": {},
   "outputs": [],
   "source": [
    "save_csv(hpvdf, 'world_hpv_coverage.csv')"
   ]
  },
  {
   "cell_type": "code",
   "execution_count": null,
   "metadata": {},
   "outputs": [],
   "source": [
    "# Take only HPV of female with complete dose\n",
    "hpvdf_fc = open_csv('world_hpv_coverage.csv')"
   ]
  },
  {
   "cell_type": "code",
   "execution_count": null,
   "metadata": {},
   "outputs": [],
   "source": [
    "hpvdf_fc = hpvdf_fc[hpvdf_fc['indicator'] == 'prHPVc_F']"
   ]
  },
  {
   "cell_type": "code",
   "execution_count": null,
   "metadata": {
    "tags": []
   },
   "outputs": [],
   "source": [
    "hpvdf_fc[['value_str']] = hpvdf_fc[['value_str']].apply(lambda x: x.str.strip('%' and '%†' and '%*'))"
   ]
  },
  {
   "cell_type": "code",
   "execution_count": null,
   "metadata": {
    "tags": []
   },
   "outputs": [],
   "source": [
    "hpvdf_fc['value_str'] = hpvdf_fc['value_str'].astype('float64')"
   ]
  },
  {
   "cell_type": "code",
   "execution_count": null,
   "metadata": {},
   "outputs": [],
   "source": [
    "save_csv(hpvdf_fc, 'world_hpv_coverage_prHPVc_F.csv')"
   ]
  },
  {
   "cell_type": "markdown",
   "metadata": {},
   "source": [
    "## Vaccine Coverage for DTP3 and POL3"
   ]
  },
  {
   "cell_type": "code",
   "execution_count": 3,
   "metadata": {},
   "outputs": [],
   "source": [
    "dtp3 = open_excel('immunization_coverage_2019', sheet='DTP3')\n",
    "pol3 = open_excel('immunization_coverage_2019', sheet='POL3')"
   ]
  },
  {
   "cell_type": "code",
   "execution_count": 4,
   "metadata": {
    "tags": []
   },
   "outputs": [],
   "source": [
    "dtp3 = dtp3.iloc[:, :24]\n",
    "dtp3 = dtp3.dropna()\n",
    "dtp3 = dtp3.drop('iso3', axis=1)\n",
    "dtp3 = pd.melt(dtp3, id_vars=['unicef_region','country', 'vaccine'], var_name='Year', value_name='Coverage %')"
   ]
  },
  {
   "cell_type": "code",
   "execution_count": 5,
   "metadata": {},
   "outputs": [],
   "source": [
    "pol3 = pol3.iloc[:, :24]\n",
    "pol3 = pol3.dropna()\n",
    "pol3 = pol3.drop('iso3', axis=1)\n",
    "pol3 = pd.melt(pol3, id_vars=['unicef_region','country', 'vaccine'], var_name='Year', value_name='Coverage %')"
   ]
  },
  {
   "cell_type": "code",
   "execution_count": null,
   "metadata": {
    "tags": []
   },
   "outputs": [],
   "source": [
    "save_csv(dtp3, 'dtp3.csv')\n",
    "save_csv(pol3, 'pol3.csv')"
   ]
  },
  {
   "cell_type": "markdown",
   "metadata": {},
   "source": [
    "### Plot Coverage % for different region and disease"
   ]
  },
  {
   "cell_type": "code",
   "execution_count": 6,
   "metadata": {},
   "outputs": [],
   "source": [
    "dtp3 = open_excel('immunization_coverage_2019', sheet='DTP3')\n",
    "pol3 = open_excel('immunization_coverage_2019', sheet='POL3')\n",
    "hepb3 = open_excel('immunization_coverage_2019', sheet='HEPB3')\n",
    "hib3 = open_excel('immunization_coverage_2019', sheet='HIB3')\n",
    "mcv1 = open_excel('immunization_coverage_2019', sheet='MCV1')"
   ]
  },
  {
   "cell_type": "code",
   "execution_count": 7,
   "metadata": {},
   "outputs": [],
   "source": [
    "def check_df(df, col):\n",
    "    df.iloc[:, :col].dropna().info()\n",
    "\n",
    "def preprocess_df(df):\n",
    "    df = df.iloc[:, :15].drop('iso3', axis=1).dropna()\n",
    "    df = pd.melt(df, id_vars=['unicef_region','country', 'vaccine'], var_name='Year', value_name='Coverage %')\n",
    "    df.rename(columns={'unicef_region':'Region', 'country':'Country', 'vaccine':'Vaccine Type'}, inplace=True)\n",
    "    return df"
   ]
  },
  {
   "cell_type": "code",
   "execution_count": 63,
   "metadata": {
    "tags": []
   },
   "outputs": [],
   "source": [
    "dtp3_10y = preprocess_df(dtp3)\n",
    "pol3_10y = preprocess_df(pol3)\n",
    "hepb3_10y = preprocess_df(hepb3)\n",
    "hib3_10y = preprocess_df(hib3)\n",
    "mcv1_10y = preprocess_df(mcv1)"
   ]
  },
  {
   "cell_type": "code",
   "execution_count": 217,
   "metadata": {
    "tags": []
   },
   "outputs": [],
   "source": [
    "fig = plt.figure(figsize=(20,10))\n",
    "gs = GridSpec(2,3, wspace=0.2, hspace=0.5, figure=fig)\n",
    "ax1 = fig.add_subplot(gs[0, 0])\n",
    "ax2 = fig.add_subplot(gs[0, 1])\n",
    "ax3 = fig.add_subplot(gs[0, 2])\n",
    "ax4 = fig.add_subplot(gs[1, 0])\n",
    "ax5 = fig.add_subplot(gs[1, 1])\n",
    "sns.set_style(\"white\")\n",
    "sns.lineplot(x='Year', y='Coverage %', hue='Region', data=dtp3_10y, ci=None, ax=ax1)\n",
    "ax1.set_title('DTP3 Coverage % 2009-2019')\n",
    "ax1.legend().set_visible(False)\n",
    "sns.lineplot(x='Year', y='Coverage %', hue='Region', data=pol3_10y, ci=None, ax=ax2)\n",
    "ax2.set_title('POL3 Coverage % 2009-2019')\n",
    "ax2.legend().set_visible(False)\n",
    "sns.lineplot(x='Year', y='Coverage %', hue='Region', data=hepb3_10y, ci=None, ax=ax3)\n",
    "ax3.set_title('HEPB3 Coverage % 2009-2019')\n",
    "ax3.legend().set_visible(False)\n",
    "sns.lineplot(x='Year', y='Coverage %', hue='Region', data=hib3_10y, ci=None, ax=ax4)\n",
    "ax4.set_title('HIB3 Coverage % 2009-2019')\n",
    "ax4.legend().set_visible(False)\n",
    "sns.lineplot(x='Year', y='Coverage %', hue='Region', data=mcv1_10y, ci=None, ax=ax5)\n",
    "ax5.set_title('MCV1 Coverage % 2009-2019')\n",
    "plt.legend(bbox_to_anchor=(1.3, 1))\n",
    "fig.suptitle('Global Coverage % ''by Regions from 2009 to 2019 for Different Types of Vaccines')\n",
    "fig.savefig('/Users/Ming/Documents/GitHub/wellcome_dissertation/WellcomePy/py_image/global_vaccine_coverage_10y.png')\n",
    "plt.close()"
   ]
  },
  {
   "cell_type": "markdown",
   "metadata": {},
   "source": [
    "## Region HDI"
   ]
  },
  {
   "cell_type": "code",
   "execution_count": 47,
   "metadata": {},
   "outputs": [],
   "source": [
    "hdi_df = open_excel('hdro_statistical_data_table_1', sheet='HDI')"
   ]
  },
  {
   "cell_type": "code",
   "execution_count": 48,
   "metadata": {},
   "outputs": [],
   "source": [
    "hdi_df = hdi_df.rename({'HDI':'Human Development Index (HDI)'}, axis=1)"
   ]
  },
  {
   "cell_type": "code",
   "execution_count": 61,
   "metadata": {},
   "outputs": [],
   "source": [
    "fig, ax = plt.subplots(figsize=(18,14))\n",
    "sns.scatterplot(x=\"Human Development Index (HDI)\", y='Region', hue='Region', data=hdi_df, ax=ax)\n",
    "ax.legend().set_visible(False)\n",
    "fig.suptitle(\"Human Development Index of Every Country by Region in 2018\", fontsize=16)\n",
    "fig.savefig(\"/Users/Ming/Documents/GitHub/wellcome_dissertation/WellcomePy/py_image/hdi.png\")\n",
    "plt.close()"
   ]
  },
  {
   "cell_type": "markdown",
   "metadata": {},
   "source": [
    "## Gavi Support"
   ]
  },
  {
   "cell_type": "code",
   "execution_count": 87,
   "metadata": {},
   "outputs": [],
   "source": [
    "not_eligible = hib3_10y[(hib3_10y['Country'] == 'South Africa')]\n",
    "eligible = hib3_10y[(hib3_10y['Country'] == 'Kenya')]"
   ]
  },
  {
   "cell_type": "code",
   "execution_count": 88,
   "metadata": {},
   "outputs": [],
   "source": [
    "gavi_df = pd.concat([not_eligible, eligible])"
   ]
  },
  {
   "cell_type": "code",
   "execution_count": 142,
   "metadata": {},
   "outputs": [],
   "source": [
    "fig, ax = plt.subplots(figsize=(10,10))\n",
    "sns.lineplot(x='Year', y='Coverage %', hue='Country', data=gavi_df, ax=ax, markers=True, dashes=False, palette=['#536B8E', '#F79266'], hue_order=['Kenya', 'South Africa'], style='Country')\n",
    "fig.suptitle('Difference in HIB3 Coverage (%) between Eligible and Non-eligible Country for Gavi Support')\n",
    "fig.savefig(\"/Users/Ming/Documents/GitHub/wellcome_dissertation/WellcomePy/py_image/gavi_support.png\")\n",
    "plt.close()"
   ]
  },
  {
   "cell_type": "code",
   "execution_count": null,
   "metadata": {},
   "outputs": [],
   "source": []
  }
 ]
}