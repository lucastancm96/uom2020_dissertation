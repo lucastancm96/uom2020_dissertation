{
 "cells": [
  {
   "cell_type": "code",
   "execution_count": 8,
   "metadata": {},
   "outputs": [],
   "source": [
    "# Import Libraries\n",
    "import pandas as pd\n",
    "import numpy as np\n",
    "import seaborn as sns\n",
    "import matplotlib.pyplot as plt\n",
    "%matplotlib inline"
   ]
  },
  {
   "cell_type": "markdown",
   "metadata": {},
   "source": [
    "## Immunization Coverage EDA"
   ]
  },
  {
   "cell_type": "code",
   "execution_count": 32,
   "metadata": {},
   "outputs": [
    {
     "output_type": "execute_result",
     "data": {
      "text/plain": "   region vaccine  year  coverage\n0  Global     BCG  1980        15\n1  Global    DTP1  1980        30\n2  Global    DTP3  1980        20\n3  Global    MCV1  1980        16\n4  Global    POL3  1980        21",
      "text/html": "<div>\n<style scoped>\n    .dataframe tbody tr th:only-of-type {\n        vertical-align: middle;\n    }\n\n    .dataframe tbody tr th {\n        vertical-align: top;\n    }\n\n    .dataframe thead th {\n        text-align: right;\n    }\n</style>\n<table border=\"1\" class=\"dataframe\">\n  <thead>\n    <tr style=\"text-align: right;\">\n      <th></th>\n      <th>region</th>\n      <th>vaccine</th>\n      <th>year</th>\n      <th>coverage</th>\n    </tr>\n  </thead>\n  <tbody>\n    <tr>\n      <th>0</th>\n      <td>Global</td>\n      <td>BCG</td>\n      <td>1980</td>\n      <td>15</td>\n    </tr>\n    <tr>\n      <th>1</th>\n      <td>Global</td>\n      <td>DTP1</td>\n      <td>1980</td>\n      <td>30</td>\n    </tr>\n    <tr>\n      <th>2</th>\n      <td>Global</td>\n      <td>DTP3</td>\n      <td>1980</td>\n      <td>20</td>\n    </tr>\n    <tr>\n      <th>3</th>\n      <td>Global</td>\n      <td>MCV1</td>\n      <td>1980</td>\n      <td>16</td>\n    </tr>\n    <tr>\n      <th>4</th>\n      <td>Global</td>\n      <td>POL3</td>\n      <td>1980</td>\n      <td>21</td>\n    </tr>\n  </tbody>\n</table>\n</div>"
     },
     "metadata": {},
     "execution_count": 32
    }
   ],
   "source": [
    "glbcvg = pd.read_excel(\"immunization_coverage_2019.xlsx\", sheet_name = \"regional_global\")\n",
    "glbcvg.head(5)"
   ]
  },
  {
   "cell_type": "code",
   "execution_count": 126,
   "metadata": {
    "tags": []
   },
   "outputs": [],
   "source": [
    "# GBR = United Kingdom\n",
    "# USA = United States\n",
    "# FRA = France\n",
    "# UKR = Ukraine\n",
    "# BGD = Bangladesh\n",
    "# RWA = Rwanda\n",
    "# CHN = China\n",
    "# MYS = Malaysia\n",
    "\n",
    "dtp3cvg = pd.read_excel(\"immunization_coverage_2019.xlsx\", sheet_name=\"DTP3\")\n",
    "dtp3 = None\n",
    "countries = ['GBR', 'USA', 'FRA', 'UKR', 'BGD', 'RWA', 'CHN', 'MYS']\n",
    "for country in countries:\n",
    "    if dtp3 is None:\n",
    "        dtp3 = dtp3cvg[dtp3cvg['iso3'] == country]\n",
    "    else:\n",
    "        dtp3 = dtp3.append(dtp3cvg[dtp3cvg['iso3'] == country])\n",
    "dtp3 = dtp3.iloc[:, :-12].sort_values(by=['country']).reset_index(drop=True)\n",
    "dtp3 = dtp3.drop(columns=['unicef_region'])\n",
    "year = dtp3.columns[3:]\n",
    "dtp3 = pd.melt(dtp3, id_vars=['iso3','country', 'vaccine'], value_vars=year, var_name='year', value_name='coverage(%)')\n",
    "dtp3.to_csv('dtp3.csv')"
   ]
  },
  {
   "cell_type": "code",
   "execution_count": 127,
   "metadata": {},
   "outputs": [],
   "source": [
    "pol3cvg = pd.read_excel(\"immunization_coverage_2019.xlsx\", sheet_name =\"POL3\")\n",
    "pol3 = None\n",
    "countries = ['GBR', 'USA', 'FRA', 'UKR', 'BGD', 'RWA', 'CHN', 'MYS']\n",
    "for country in countries:\n",
    "    if pol3 is None:\n",
    "        pol3 = pol3cvg[pol3cvg['iso3'] == country]\n",
    "    else:\n",
    "        pol3 = pol3.append(pol3cvg[pol3cvg['iso3'] == country])\n",
    "pol3 = pol3.iloc[:, :-12].sort_values(by=['country']).reset_index(drop=True)\n",
    "pol3 = pol3.drop(columns=['unicef_region'])\n",
    "year = pol3.columns[3:]\n",
    "pol3 = pd.melt(pol3, id_vars=['iso3','country', 'vaccine'], value_vars=year, var_name='year', value_name='coverage(%)')\n",
    "pol3.to_csv('pol3.csv')"
   ]
  },
  {
   "cell_type": "code",
   "execution_count": 149,
   "metadata": {
    "tags": []
   },
   "outputs": [],
   "source": [
    "dtp3cvg = pd.read_excel(\"immunization_coverage_2019.xlsx\", sheet_name=\"DTP3\")\n",
    "gdtp3 = dtp3cvg.iloc[:, :-20].dropna().drop(columns=['unicef_region'])\n",
    "year = gdtp3.columns[3:]\n",
    "gdtp3 = pd.melt(gdtp3, id_vars=['iso3','country', 'vaccine'], value_vars=year, var_name='year', value_name='coverage(%)')\n",
    "gdtp3.to_csv('gdtp3.csv')"
   ]
  },
  {
   "cell_type": "code",
   "execution_count": 150,
   "metadata": {},
   "outputs": [],
   "source": [
    "pol3cvg = pd.read_excel(\"immunization_coverage_2019.xlsx\", sheet_name=\"POL3\")\n",
    "gpol3 = pol3cvg.iloc[:, :-20].dropna().drop(columns=['unicef_region'])\n",
    "year = gpol3.columns[3:]\n",
    "gpol3 = pd.melt(gpol3, id_vars=['iso3','country', 'vaccine'], value_vars=year, var_name='year', value_name='coverage(%)')\n",
    "gpol3.to_csv('gpol3.csv')"
   ]
  },
  {
   "cell_type": "code",
   "execution_count": 177,
   "metadata": {},
   "outputs": [
    {
     "output_type": "error",
     "ename": "InvalidWorksheetName",
     "evalue": "Excel worksheet name '    iso3         country vaccine  year  coverage(%)\n0    BGD      Bangladesh    DTP3  2019         98.0\n1    CHN           China    DTP3  2019         99.0\n2    FRA          France    DTP3  2019         96.0\n3    MYS        Malaysia    DTP3  2019         98.0\n4    RWA          Rwanda    DTP3  2019         98.0\n..   ...             ...     ...   ...          ...\n219  MYS        Malaysia    DTP3  1992         94.0\n220  RWA          Rwanda    DTP3  1992         85.0\n221  UKR         Ukraine    DTP3  1992         88.0\n222  GBR  United Kingdom    DTP3  1992         92.0\n223  USA   United States    DTP3  1992         83.0\n\n[224 rows x 5 columns]' must be <= 31 chars.",
     "traceback": [
      "\u001b[0;31m---------------------------------------------------------------------------\u001b[0m",
      "\u001b[0;31mInvalidWorksheetName\u001b[0m                      Traceback (most recent call last)",
      "\u001b[0;32m<ipython-input-177-4891d6d8f94e>\u001b[0m in \u001b[0;36m<module>\u001b[0;34m\u001b[0m\n\u001b[1;32m      5\u001b[0m \u001b[0;32mwith\u001b[0m \u001b[0mEW\u001b[0m\u001b[0;34m(\u001b[0m\u001b[0;34m'global_vc.xlsx'\u001b[0m\u001b[0;34m)\u001b[0m \u001b[0;32mas\u001b[0m \u001b[0mwriter\u001b[0m\u001b[0;34m:\u001b[0m\u001b[0;34m\u001b[0m\u001b[0;34m\u001b[0m\u001b[0m\n\u001b[1;32m      6\u001b[0m     \u001b[0;32mfor\u001b[0m \u001b[0mf\u001b[0m \u001b[0;32min\u001b[0m \u001b[0mfiles\u001b[0m\u001b[0;34m:\u001b[0m\u001b[0;34m\u001b[0m\u001b[0;34m\u001b[0m\u001b[0m\n\u001b[0;32m----> 7\u001b[0;31m         \u001b[0mf\u001b[0m\u001b[0;34m.\u001b[0m\u001b[0mto_excel\u001b[0m\u001b[0;34m(\u001b[0m\u001b[0mwriter\u001b[0m\u001b[0;34m,\u001b[0m \u001b[0msheet_name\u001b[0m\u001b[0;34m=\u001b[0m\u001b[0mstr\u001b[0m\u001b[0;34m(\u001b[0m\u001b[0mf\u001b[0m\u001b[0;34m)\u001b[0m\u001b[0;34m)\u001b[0m\u001b[0;34m\u001b[0m\u001b[0;34m\u001b[0m\u001b[0m\n\u001b[0m",
      "\u001b[0;32m/Library/Frameworks/Python.framework/Versions/3.8/lib/python3.8/site-packages/pandas/core/generic.py\u001b[0m in \u001b[0;36mto_excel\u001b[0;34m(self, excel_writer, sheet_name, na_rep, float_format, columns, header, index, index_label, startrow, startcol, engine, merge_cells, encoding, inf_rep, verbose, freeze_panes)\u001b[0m\n\u001b[1;32m   2173\u001b[0m             \u001b[0minf_rep\u001b[0m\u001b[0;34m=\u001b[0m\u001b[0minf_rep\u001b[0m\u001b[0;34m,\u001b[0m\u001b[0;34m\u001b[0m\u001b[0;34m\u001b[0m\u001b[0m\n\u001b[1;32m   2174\u001b[0m         )\n\u001b[0;32m-> 2175\u001b[0;31m         formatter.write(\n\u001b[0m\u001b[1;32m   2176\u001b[0m             \u001b[0mexcel_writer\u001b[0m\u001b[0;34m,\u001b[0m\u001b[0;34m\u001b[0m\u001b[0;34m\u001b[0m\u001b[0m\n\u001b[1;32m   2177\u001b[0m             \u001b[0msheet_name\u001b[0m\u001b[0;34m=\u001b[0m\u001b[0msheet_name\u001b[0m\u001b[0;34m,\u001b[0m\u001b[0;34m\u001b[0m\u001b[0;34m\u001b[0m\u001b[0m\n",
      "\u001b[0;32m/Library/Frameworks/Python.framework/Versions/3.8/lib/python3.8/site-packages/pandas/io/formats/excel.py\u001b[0m in \u001b[0;36mwrite\u001b[0;34m(self, writer, sheet_name, startrow, startcol, freeze_panes, engine)\u001b[0m\n\u001b[1;32m    728\u001b[0m \u001b[0;34m\u001b[0m\u001b[0m\n\u001b[1;32m    729\u001b[0m         \u001b[0mformatted_cells\u001b[0m \u001b[0;34m=\u001b[0m \u001b[0mself\u001b[0m\u001b[0;34m.\u001b[0m\u001b[0mget_formatted_cells\u001b[0m\u001b[0;34m(\u001b[0m\u001b[0;34m)\u001b[0m\u001b[0;34m\u001b[0m\u001b[0;34m\u001b[0m\u001b[0m\n\u001b[0;32m--> 730\u001b[0;31m         writer.write_cells(\n\u001b[0m\u001b[1;32m    731\u001b[0m             \u001b[0mformatted_cells\u001b[0m\u001b[0;34m,\u001b[0m\u001b[0;34m\u001b[0m\u001b[0;34m\u001b[0m\u001b[0m\n\u001b[1;32m    732\u001b[0m             \u001b[0msheet_name\u001b[0m\u001b[0;34m,\u001b[0m\u001b[0;34m\u001b[0m\u001b[0;34m\u001b[0m\u001b[0m\n",
      "\u001b[0;32m/Library/Frameworks/Python.framework/Versions/3.8/lib/python3.8/site-packages/pandas/io/excel/_xlsxwriter.py\u001b[0m in \u001b[0;36mwrite_cells\u001b[0;34m(self, cells, sheet_name, startrow, startcol, freeze_panes)\u001b[0m\n\u001b[1;32m    204\u001b[0m             \u001b[0mwks\u001b[0m \u001b[0;34m=\u001b[0m \u001b[0mself\u001b[0m\u001b[0;34m.\u001b[0m\u001b[0msheets\u001b[0m\u001b[0;34m[\u001b[0m\u001b[0msheet_name\u001b[0m\u001b[0;34m]\u001b[0m\u001b[0;34m\u001b[0m\u001b[0;34m\u001b[0m\u001b[0m\n\u001b[1;32m    205\u001b[0m         \u001b[0;32melse\u001b[0m\u001b[0;34m:\u001b[0m\u001b[0;34m\u001b[0m\u001b[0;34m\u001b[0m\u001b[0m\n\u001b[0;32m--> 206\u001b[0;31m             \u001b[0mwks\u001b[0m \u001b[0;34m=\u001b[0m \u001b[0mself\u001b[0m\u001b[0;34m.\u001b[0m\u001b[0mbook\u001b[0m\u001b[0;34m.\u001b[0m\u001b[0madd_worksheet\u001b[0m\u001b[0;34m(\u001b[0m\u001b[0msheet_name\u001b[0m\u001b[0;34m)\u001b[0m\u001b[0;34m\u001b[0m\u001b[0;34m\u001b[0m\u001b[0m\n\u001b[0m\u001b[1;32m    207\u001b[0m             \u001b[0mself\u001b[0m\u001b[0;34m.\u001b[0m\u001b[0msheets\u001b[0m\u001b[0;34m[\u001b[0m\u001b[0msheet_name\u001b[0m\u001b[0;34m]\u001b[0m \u001b[0;34m=\u001b[0m \u001b[0mwks\u001b[0m\u001b[0;34m\u001b[0m\u001b[0;34m\u001b[0m\u001b[0m\n\u001b[1;32m    208\u001b[0m \u001b[0;34m\u001b[0m\u001b[0m\n",
      "\u001b[0;32m/Library/Frameworks/Python.framework/Versions/3.8/lib/python3.8/site-packages/xlsxwriter/workbook.py\u001b[0m in \u001b[0;36madd_worksheet\u001b[0;34m(self, name, worksheet_class)\u001b[0m\n\u001b[1;32m    178\u001b[0m             \u001b[0mworksheet_class\u001b[0m \u001b[0;34m=\u001b[0m \u001b[0mself\u001b[0m\u001b[0;34m.\u001b[0m\u001b[0mworksheet_class\u001b[0m\u001b[0;34m\u001b[0m\u001b[0;34m\u001b[0m\u001b[0m\n\u001b[1;32m    179\u001b[0m \u001b[0;34m\u001b[0m\u001b[0m\n\u001b[0;32m--> 180\u001b[0;31m         \u001b[0;32mreturn\u001b[0m \u001b[0mself\u001b[0m\u001b[0;34m.\u001b[0m\u001b[0m_add_sheet\u001b[0m\u001b[0;34m(\u001b[0m\u001b[0mname\u001b[0m\u001b[0;34m,\u001b[0m \u001b[0mworksheet_class\u001b[0m\u001b[0;34m=\u001b[0m\u001b[0mworksheet_class\u001b[0m\u001b[0;34m)\u001b[0m\u001b[0;34m\u001b[0m\u001b[0;34m\u001b[0m\u001b[0m\n\u001b[0m\u001b[1;32m    181\u001b[0m \u001b[0;34m\u001b[0m\u001b[0m\n\u001b[1;32m    182\u001b[0m     \u001b[0;32mdef\u001b[0m \u001b[0madd_chartsheet\u001b[0m\u001b[0;34m(\u001b[0m\u001b[0mself\u001b[0m\u001b[0;34m,\u001b[0m \u001b[0mname\u001b[0m\u001b[0;34m=\u001b[0m\u001b[0;32mNone\u001b[0m\u001b[0;34m,\u001b[0m \u001b[0mchartsheet_class\u001b[0m\u001b[0;34m=\u001b[0m\u001b[0;32mNone\u001b[0m\u001b[0;34m)\u001b[0m\u001b[0;34m:\u001b[0m\u001b[0;34m\u001b[0m\u001b[0;34m\u001b[0m\u001b[0m\n",
      "\u001b[0;32m/Library/Frameworks/Python.framework/Versions/3.8/lib/python3.8/site-packages/xlsxwriter/workbook.py\u001b[0m in \u001b[0;36m_add_sheet\u001b[0;34m(self, name, worksheet_class)\u001b[0m\n\u001b[1;32m    727\u001b[0m \u001b[0;34m\u001b[0m\u001b[0m\n\u001b[1;32m    728\u001b[0m         \u001b[0msheet_index\u001b[0m \u001b[0;34m=\u001b[0m \u001b[0mlen\u001b[0m\u001b[0;34m(\u001b[0m\u001b[0mself\u001b[0m\u001b[0;34m.\u001b[0m\u001b[0mworksheets_objs\u001b[0m\u001b[0;34m)\u001b[0m\u001b[0;34m\u001b[0m\u001b[0;34m\u001b[0m\u001b[0m\n\u001b[0;32m--> 729\u001b[0;31m         \u001b[0mname\u001b[0m \u001b[0;34m=\u001b[0m \u001b[0mself\u001b[0m\u001b[0;34m.\u001b[0m\u001b[0m_check_sheetname\u001b[0m\u001b[0;34m(\u001b[0m\u001b[0mname\u001b[0m\u001b[0;34m,\u001b[0m \u001b[0misinstance\u001b[0m\u001b[0;34m(\u001b[0m\u001b[0mworksheet\u001b[0m\u001b[0;34m,\u001b[0m \u001b[0mChartsheet\u001b[0m\u001b[0;34m)\u001b[0m\u001b[0;34m)\u001b[0m\u001b[0;34m\u001b[0m\u001b[0;34m\u001b[0m\u001b[0m\n\u001b[0m\u001b[1;32m    730\u001b[0m \u001b[0;34m\u001b[0m\u001b[0m\n\u001b[1;32m    731\u001b[0m         \u001b[0;31m# Initialization data to pass to the worksheet.\u001b[0m\u001b[0;34m\u001b[0m\u001b[0;34m\u001b[0m\u001b[0;34m\u001b[0m\u001b[0m\n",
      "\u001b[0;32m/Library/Frameworks/Python.framework/Versions/3.8/lib/python3.8/site-packages/xlsxwriter/workbook.py\u001b[0m in \u001b[0;36m_check_sheetname\u001b[0;34m(self, sheetname, is_chartsheet)\u001b[0m\n\u001b[1;32m    776\u001b[0m         \u001b[0;31m# Check that sheet sheetname is <= 31. Excel limit.\u001b[0m\u001b[0;34m\u001b[0m\u001b[0;34m\u001b[0m\u001b[0;34m\u001b[0m\u001b[0m\n\u001b[1;32m    777\u001b[0m         \u001b[0;32mif\u001b[0m \u001b[0mlen\u001b[0m\u001b[0;34m(\u001b[0m\u001b[0msheetname\u001b[0m\u001b[0;34m)\u001b[0m \u001b[0;34m>\u001b[0m \u001b[0;36m31\u001b[0m\u001b[0;34m:\u001b[0m\u001b[0;34m\u001b[0m\u001b[0;34m\u001b[0m\u001b[0m\n\u001b[0;32m--> 778\u001b[0;31m             raise InvalidWorksheetName(\n\u001b[0m\u001b[1;32m    779\u001b[0m                 \u001b[0;34m\"Excel worksheet name '%s' must be <= 31 chars.\"\u001b[0m \u001b[0;34m%\u001b[0m\u001b[0;34m\u001b[0m\u001b[0;34m\u001b[0m\u001b[0m\n\u001b[1;32m    780\u001b[0m                 sheetname)\n",
      "\u001b[0;31mInvalidWorksheetName\u001b[0m: Excel worksheet name '    iso3         country vaccine  year  coverage(%)\n0    BGD      Bangladesh    DTP3  2019         98.0\n1    CHN           China    DTP3  2019         99.0\n2    FRA          France    DTP3  2019         96.0\n3    MYS        Malaysia    DTP3  2019         98.0\n4    RWA          Rwanda    DTP3  2019         98.0\n..   ...             ...     ...   ...          ...\n219  MYS        Malaysia    DTP3  1992         94.0\n220  RWA          Rwanda    DTP3  1992         85.0\n221  UKR         Ukraine    DTP3  1992         88.0\n222  GBR  United Kingdom    DTP3  1992         92.0\n223  USA   United States    DTP3  1992         83.0\n\n[224 rows x 5 columns]' must be <= 31 chars."
     ]
    }
   ],
   "source": [
    "from pandas import ExcelWriter as EW\n",
    "\n",
    "files = [dtp3, pol3, gdtp3, gpol3]\n",
    "\n",
    "with EW('global_vc.xlsx') as writer:\n",
    "    for f in files:\n",
    "        f.to_excel(writer, sheet_name=str(f))    "
   ]
  },
  {
   "cell_type": "code",
   "execution_count": 193,
   "metadata": {},
   "outputs": [],
   "source": [
    "# Create a Pandas Excel writer using XlsxWriter as the engine.\n",
    "writer = pd.ExcelWriter('global_vc.xlsx', engine='xlsxwriter')\n",
    "\n",
    "# Write each dataframe to a different worksheet.\n",
    "dtp3.to_excel(writer, sheet_name='dtp3', index=False)\n",
    "pol3.to_excel(writer, sheet_name='pol3', index=False)\n",
    "gdtp3.to_excel(writer, sheet_name='gdtp3', index=False)\n",
    "gpol3.to_excel(writer, sheet_name='gpol3', index=False)\n",
    "writer.save()"
   ]
  },
  {
   "cell_type": "code",
   "execution_count": 195,
   "metadata": {},
   "outputs": [
    {
     "output_type": "execute_result",
     "data": {
      "text/plain": "     iso3         country vaccine  year  coverage(%)\n181   GBR  United Kingdom    DTP3  2019         93.0\n373   GBR  United Kingdom    DTP3  2018         94.0\n565   GBR  United Kingdom    DTP3  2017         94.0\n757   GBR  United Kingdom    DTP3  2016         94.0\n949   GBR  United Kingdom    DTP3  2015         95.0\n1141  GBR  United Kingdom    DTP3  2014         95.0\n1333  GBR  United Kingdom    DTP3  2013         95.0\n1525  GBR  United Kingdom    DTP3  2012         95.0\n1717  GBR  United Kingdom    DTP3  2011         95.0\n1909  GBR  United Kingdom    DTP3  2010         94.0\n2101  GBR  United Kingdom    DTP3  2009         93.0\n2293  GBR  United Kingdom    DTP3  2008         92.0\n2485  GBR  United Kingdom    DTP3  2007         92.0\n2677  GBR  United Kingdom    DTP3  2006         92.0\n2869  GBR  United Kingdom    DTP3  2005         91.0\n3061  GBR  United Kingdom    DTP3  2004         92.0\n3253  GBR  United Kingdom    DTP3  2003         91.0\n3445  GBR  United Kingdom    DTP3  2002         91.0\n3637  GBR  United Kingdom    DTP3  2001         91.0\n3829  GBR  United Kingdom    DTP3  2000         91.0",
      "text/html": "<div>\n<style scoped>\n    .dataframe tbody tr th:only-of-type {\n        vertical-align: middle;\n    }\n\n    .dataframe tbody tr th {\n        vertical-align: top;\n    }\n\n    .dataframe thead th {\n        text-align: right;\n    }\n</style>\n<table border=\"1\" class=\"dataframe\">\n  <thead>\n    <tr style=\"text-align: right;\">\n      <th></th>\n      <th>iso3</th>\n      <th>country</th>\n      <th>vaccine</th>\n      <th>year</th>\n      <th>coverage(%)</th>\n    </tr>\n  </thead>\n  <tbody>\n    <tr>\n      <th>181</th>\n      <td>GBR</td>\n      <td>United Kingdom</td>\n      <td>DTP3</td>\n      <td>2019</td>\n      <td>93.0</td>\n    </tr>\n    <tr>\n      <th>373</th>\n      <td>GBR</td>\n      <td>United Kingdom</td>\n      <td>DTP3</td>\n      <td>2018</td>\n      <td>94.0</td>\n    </tr>\n    <tr>\n      <th>565</th>\n      <td>GBR</td>\n      <td>United Kingdom</td>\n      <td>DTP3</td>\n      <td>2017</td>\n      <td>94.0</td>\n    </tr>\n    <tr>\n      <th>757</th>\n      <td>GBR</td>\n      <td>United Kingdom</td>\n      <td>DTP3</td>\n      <td>2016</td>\n      <td>94.0</td>\n    </tr>\n    <tr>\n      <th>949</th>\n      <td>GBR</td>\n      <td>United Kingdom</td>\n      <td>DTP3</td>\n      <td>2015</td>\n      <td>95.0</td>\n    </tr>\n    <tr>\n      <th>1141</th>\n      <td>GBR</td>\n      <td>United Kingdom</td>\n      <td>DTP3</td>\n      <td>2014</td>\n      <td>95.0</td>\n    </tr>\n    <tr>\n      <th>1333</th>\n      <td>GBR</td>\n      <td>United Kingdom</td>\n      <td>DTP3</td>\n      <td>2013</td>\n      <td>95.0</td>\n    </tr>\n    <tr>\n      <th>1525</th>\n      <td>GBR</td>\n      <td>United Kingdom</td>\n      <td>DTP3</td>\n      <td>2012</td>\n      <td>95.0</td>\n    </tr>\n    <tr>\n      <th>1717</th>\n      <td>GBR</td>\n      <td>United Kingdom</td>\n      <td>DTP3</td>\n      <td>2011</td>\n      <td>95.0</td>\n    </tr>\n    <tr>\n      <th>1909</th>\n      <td>GBR</td>\n      <td>United Kingdom</td>\n      <td>DTP3</td>\n      <td>2010</td>\n      <td>94.0</td>\n    </tr>\n    <tr>\n      <th>2101</th>\n      <td>GBR</td>\n      <td>United Kingdom</td>\n      <td>DTP3</td>\n      <td>2009</td>\n      <td>93.0</td>\n    </tr>\n    <tr>\n      <th>2293</th>\n      <td>GBR</td>\n      <td>United Kingdom</td>\n      <td>DTP3</td>\n      <td>2008</td>\n      <td>92.0</td>\n    </tr>\n    <tr>\n      <th>2485</th>\n      <td>GBR</td>\n      <td>United Kingdom</td>\n      <td>DTP3</td>\n      <td>2007</td>\n      <td>92.0</td>\n    </tr>\n    <tr>\n      <th>2677</th>\n      <td>GBR</td>\n      <td>United Kingdom</td>\n      <td>DTP3</td>\n      <td>2006</td>\n      <td>92.0</td>\n    </tr>\n    <tr>\n      <th>2869</th>\n      <td>GBR</td>\n      <td>United Kingdom</td>\n      <td>DTP3</td>\n      <td>2005</td>\n      <td>91.0</td>\n    </tr>\n    <tr>\n      <th>3061</th>\n      <td>GBR</td>\n      <td>United Kingdom</td>\n      <td>DTP3</td>\n      <td>2004</td>\n      <td>92.0</td>\n    </tr>\n    <tr>\n      <th>3253</th>\n      <td>GBR</td>\n      <td>United Kingdom</td>\n      <td>DTP3</td>\n      <td>2003</td>\n      <td>91.0</td>\n    </tr>\n    <tr>\n      <th>3445</th>\n      <td>GBR</td>\n      <td>United Kingdom</td>\n      <td>DTP3</td>\n      <td>2002</td>\n      <td>91.0</td>\n    </tr>\n    <tr>\n      <th>3637</th>\n      <td>GBR</td>\n      <td>United Kingdom</td>\n      <td>DTP3</td>\n      <td>2001</td>\n      <td>91.0</td>\n    </tr>\n    <tr>\n      <th>3829</th>\n      <td>GBR</td>\n      <td>United Kingdom</td>\n      <td>DTP3</td>\n      <td>2000</td>\n      <td>91.0</td>\n    </tr>\n  </tbody>\n</table>\n</div>"
     },
     "metadata": {},
     "execution_count": 195
    }
   ],
   "source": [
    "gdtp3[gdtp3['iso3'] == 'GBR']"
   ]
  },
  {
   "cell_type": "code",
   "execution_count": null,
   "metadata": {},
   "outputs": [],
   "source": []
  }
 ],
 "metadata": {
  "language_info": {
   "codemirror_mode": {
    "name": "ipython",
    "version": 3
   },
   "file_extension": ".py",
   "mimetype": "text/x-python",
   "name": "python",
   "nbconvert_exporter": "python",
   "pygments_lexer": "ipython3",
   "version": 3
  },
  "orig_nbformat": 2,
  "kernelspec": {
   "name": "python_defaultSpec_1596762834436",
   "display_name": "Python 3.8.3 64-bit"
  }
 },
 "nbformat": 4,
 "nbformat_minor": 2
}