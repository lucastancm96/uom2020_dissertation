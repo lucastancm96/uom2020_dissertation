{
 "metadata": {
  "language_info": {
   "codemirror_mode": {
    "name": "ipython",
    "version": 3
   },
   "file_extension": ".py",
   "mimetype": "text/x-python",
   "name": "python",
   "nbconvert_exporter": "python",
   "pygments_lexer": "ipython3",
   "version": "3.7.6-final"
  },
  "orig_nbformat": 2,
  "kernelspec": {
   "name": "python_defaultSpec_1599465751504",
   "display_name": "Python 3.7.6 64-bit ('base': conda)"
  }
 },
 "nbformat": 4,
 "nbformat_minor": 2,
 "cells": [
  {
   "cell_type": "code",
   "execution_count": 1,
   "metadata": {
    "tags": []
   },
   "outputs": [],
   "source": [
    "import pandas as pd\n",
    "import matplotlib.pyplot as plt\n",
    "from pandas import Timestamp\n",
    "import numpy as np"
   ]
  },
  {
   "cell_type": "code",
   "execution_count": 2,
   "metadata": {},
   "outputs": [],
   "source": [
    "df = pd.read_csv('../csv_data/owid-covid-data.csv')"
   ]
  },
  {
   "cell_type": "code",
   "execution_count": 3,
   "metadata": {},
   "outputs": [],
   "source": [
    "df['date'] = pd.to_datetime(df['date'])\n",
    "df = df[(df['location'] != 'World') & (df['date'] < '2020-07-30')]"
   ]
  },
  {
   "cell_type": "code",
   "execution_count": 4,
   "metadata": {},
   "outputs": [],
   "source": [
    "ts = pd.DataFrame(df.groupby('date')['total_cases'].sum())\n",
    "ts['total_cases'] = ts['total_cases']/1000\n",
    "ts = ts.rename(columns={'total_cases': 'Total Cases (000)'})"
   ]
  },
  {
   "cell_type": "code",
   "execution_count": 5,
   "metadata": {},
   "outputs": [],
   "source": [
    "idx = pd.date_range('2019-12-15', periods=15, freq='D')\n",
    "data = np.array([0 for i in range(15)])\n",
    "nts = pd.DataFrame(data, columns=['Total Cases (000)'],index=idx)"
   ]
  },
  {
   "cell_type": "code",
   "execution_count": 6,
   "metadata": {},
   "outputs": [],
   "source": [
    "ts = nts.append(ts)"
   ]
  },
  {
   "cell_type": "code",
   "execution_count": 13,
   "metadata": {},
   "outputs": [],
   "source": [
    "plt.rcParams['axes.ymargin'] = 0\n",
    "fig = plt.figure(figsize=(20,7))\n",
    "plt.plot(ts.index, ts['Total Cases (000)'], color='#042836')\n",
    "\n",
    "plt.axvline(x=pd.to_datetime(\"2020-01-01\"), color='#bf0000', ls='-.')\n",
    "plt.text(Timestamp('2019-12-28'), 500, 'Unidentified disease & shut down Huanan Seafood Market', rotation='vertical', color='#bf0000', fontsize='large')\n",
    "\n",
    "plt.axvline(x=pd.to_datetime(\"2020-01-09\"), color='#5B4E64', ls='-.')\n",
    "plt.text(Timestamp('2020-01-06'), 500, 'China first death', rotation='vertical', color='#5B4E64', fontsize='x-large')\n",
    "\n",
    "plt.axvline(x=pd.to_datetime(\"2020-01-13\"), color='#bf0000', ls='-.')\n",
    "plt.text(Timestamp('2020-01-14'), 500, 'Thailand first case', rotation='vertical', color='#bf0000', fontsize='x-large')\n",
    "\n",
    "plt.axvline(x=pd.to_datetime(\"2020-02-02\"), color='#5B4E64', ls='-.')\n",
    "plt.text(Timestamp('2020-01-30'), 500, 'Philippines first death', rotation='vertical', color='#5B4E64', fontsize='x-large')\n",
    "\n",
    "plt.axvline(x=pd.to_datetime(\"2020-02-11\"), ymin=0.005, color='#bf0000', ls='-.')\n",
    "plt.text(Timestamp('2020-02-08'), 500, 'WHO announcement of COVID-19', rotation='vertical', color='#bf0000', fontsize='x-large')\n",
    "\n",
    "plt.axvline(x=pd.to_datetime(\"2020-03-11\"), color='#000000', ls='--')\n",
    "plt.text(Timestamp('2020-02-16'), 1500, 'WHO declared \\nCOVID-19 as \\npandemic', color='#000000', fontsize='x-large')\n",
    "\n",
    "plt.axvline(x=pd.to_datetime(\"2020-03-23\"), ymin=0.022, color='#5B4E64', ls='-.')\n",
    "plt.text(Timestamp('2020-03-20'), 800, 'UK lockdown', rotation='vertical', color='#5B4E64', fontsize='x-large')\n",
    "\n",
    "plt.axvline(x=pd.to_datetime(\"2020-04-08\"), ymin=0.08, color='#bf0000', ls='-.')\n",
    "plt.text(Timestamp('2020-04-05'), 2000, 'World 1M cases', rotation='vertical', color='#bf0000', fontsize='x-large')\n",
    "\n",
    "plt.axvline(x=pd.to_datetime(\"2020-04-28\"), ymin=0.18, color='#5B4E64', ls='-.')\n",
    "plt.text(Timestamp('2020-04-25'), 3500, 'US 1M cases', rotation='vertical', color='#5B4E64', fontsize='x-large')\n",
    "\n",
    "plt.axvline(x=pd.to_datetime(\"2020-05-21\"), ymin=0.3, color='#bf0000', ls='-.')\n",
    "plt.text(Timestamp('2020-05-18'), 6000, 'World 5M cases', rotation='vertical', color='#bf0000', fontsize='x-large')\n",
    "\n",
    "plt.axvline(x=pd.to_datetime(\"2020-07-15\"), ymin=0.8, color='#5B4E64', ls='-.')\n",
    "plt.text(Timestamp('2020-07-12'), 10800, 'World 13M cases &', rotation='vertical', color='#5B4E64', fontsize='x-large')\n",
    "plt.text(Timestamp('2020-07-17'), 13200, '500K death', rotation='vertical', color='#5B4E64', fontsize='x-large')\n",
    "\n",
    "plt.ylabel('Total Cases (000)')\n",
    "plt.xlabel('Timeline')\n",
    "plt.savefig('/Users/Ming/Documents/GitHub/wellcome_dissertation/WellcomePy/py_image/covid_timeline.png')\n",
    "plt.close()"
   ]
  },
  {
   "cell_type": "code",
   "execution_count": null,
   "metadata": {},
   "outputs": [],
   "source": []
  }
 ]
}